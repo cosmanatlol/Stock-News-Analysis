{
 "cells": [
  {
   "cell_type": "code",
   "execution_count": 1,
   "id": "22bf3ebd",
   "metadata": {},
   "outputs": [],
   "source": [
    "%load_ext autoreload\n",
    "%autoreload 2\n",
    "from scrap import Scraper"
   ]
  },
  {
   "cell_type": "code",
   "execution_count": null,
   "id": "5da5f2fc",
   "metadata": {},
   "outputs": [
    {
     "name": "stdout",
     "output_type": "stream",
     "text": [
      "Started scraping at 19:44:29.706086\n"
     ]
    }
   ],
   "source": [
    "urls = {'nytimes':['https://www.nytimes.com/section/us','https://www.nytimes.com/section/world', 'https://www.nytimes.com/section/business'],\n",
    "        'cnn':['https://www.cnn.com/us','https://www.cnn.com/world','https://www.cnn.com/business', 'https://www.cnn.com/politics', 'https://www.cnn.com/health'],\n",
    "        'stat': ['https://www.statnews.com/latest/'],\n",
    "        'ap':['https://apnews.com/world-news', 'https://apnews.com/us-news','https://apnews.com/politics','https://apnews.com/business','https://apnews.com/science'],\n",
    "        'abc': ['https://abcnews.go.com/Business/', 'https://abcnews.go.com/Health', 'https://abcnews.go.com/Technology', 'https://abcnews.go.com/US']}\n",
    "bot = Scraper(urls, 60*30, 'data.csv', \"data.csv\")\n",
    "bot.start()"
   ]
  },
  {
   "cell_type": "code",
   "execution_count": null,
   "id": "c0095390",
   "metadata": {},
   "outputs": [
    {
     "data": {
      "text/html": [
       "<div>\n",
       "<style scoped>\n",
       "    .dataframe tbody tr th:only-of-type {\n",
       "        vertical-align: middle;\n",
       "    }\n",
       "\n",
       "    .dataframe tbody tr th {\n",
       "        vertical-align: top;\n",
       "    }\n",
       "\n",
       "    .dataframe thead th {\n",
       "        text-align: right;\n",
       "    }\n",
       "</style>\n",
       "<table border=\"1\" class=\"dataframe\">\n",
       "  <thead>\n",
       "    <tr style=\"text-align: right;\">\n",
       "      <th></th>\n",
       "      <th>headline</th>\n",
       "      <th>date</th>\n",
       "      <th>source</th>\n",
       "    </tr>\n",
       "  </thead>\n",
       "  <tbody>\n",
       "    <tr>\n",
       "      <th>0</th>\n",
       "      <td>Undocumented Women Ask: Will My Unborn Child B...</td>\n",
       "      <td>2025-01-22T07:51:56.317828</td>\n",
       "      <td>nytimes</td>\n",
       "    </tr>\n",
       "    <tr>\n",
       "      <th>1</th>\n",
       "      <td>Border Patrol Agent Is Killed in Vermont Shooting</td>\n",
       "      <td>2025-01-22T07:51:56.317828</td>\n",
       "      <td>nytimes</td>\n",
       "    </tr>\n",
       "    <tr>\n",
       "      <th>2</th>\n",
       "      <td>In Car-Loving Los Angeles, the Charred Remains...</td>\n",
       "      <td>2025-01-22T07:51:56.317828</td>\n",
       "      <td>nytimes</td>\n",
       "    </tr>\n",
       "    <tr>\n",
       "      <th>3</th>\n",
       "      <td>Harvard Adopts a Definition of Antisemitism fo...</td>\n",
       "      <td>2025-01-22T07:51:56.317828</td>\n",
       "      <td>nytimes</td>\n",
       "    </tr>\n",
       "    <tr>\n",
       "      <th>4</th>\n",
       "      <td>Jocelyn Benson, Michigan’s Secretary of State,...</td>\n",
       "      <td>2025-01-22T07:51:56.317828</td>\n",
       "      <td>nytimes</td>\n",
       "    </tr>\n",
       "    <tr>\n",
       "      <th>...</th>\n",
       "      <td>...</td>\n",
       "      <td>...</td>\n",
       "      <td>...</td>\n",
       "    </tr>\n",
       "    <tr>\n",
       "      <th>2059</th>\n",
       "      <td>The man pushed onto New York’s subway tracks s...</td>\n",
       "      <td>2025-01-24T12:24:06.823257</td>\n",
       "      <td>ap</td>\n",
       "    </tr>\n",
       "    <tr>\n",
       "      <th>2060</th>\n",
       "      <td>Jury acquits New England Patriots safety Jabri...</td>\n",
       "      <td>2025-01-24T12:24:06.823257</td>\n",
       "      <td>ap</td>\n",
       "    </tr>\n",
       "    <tr>\n",
       "      <th>2061</th>\n",
       "      <td>A$AP Rocky’s trial starts with clash over ball...</td>\n",
       "      <td>2025-01-24T12:24:06.823257</td>\n",
       "      <td>ap</td>\n",
       "    </tr>\n",
       "    <tr>\n",
       "      <th>2062</th>\n",
       "      <td>Stock market today: Wall Street edges back fro...</td>\n",
       "      <td>2025-01-24T12:24:06.823257</td>\n",
       "      <td>ap</td>\n",
       "    </tr>\n",
       "    <tr>\n",
       "      <th>2063</th>\n",
       "      <td>Justice Department curtails prosecutions for b...</td>\n",
       "      <td>2025-01-24T12:24:06.823257</td>\n",
       "      <td>ap</td>\n",
       "    </tr>\n",
       "  </tbody>\n",
       "</table>\n",
       "<p>2064 rows × 3 columns</p>\n",
       "</div>"
      ],
      "text/plain": [
       "                                               headline  \\\n",
       "0     Undocumented Women Ask: Will My Unborn Child B...   \n",
       "1     Border Patrol Agent Is Killed in Vermont Shooting   \n",
       "2     In Car-Loving Los Angeles, the Charred Remains...   \n",
       "3     Harvard Adopts a Definition of Antisemitism fo...   \n",
       "4     Jocelyn Benson, Michigan’s Secretary of State,...   \n",
       "...                                                 ...   \n",
       "2059  The man pushed onto New York’s subway tracks s...   \n",
       "2060  Jury acquits New England Patriots safety Jabri...   \n",
       "2061  A$AP Rocky’s trial starts with clash over ball...   \n",
       "2062  Stock market today: Wall Street edges back fro...   \n",
       "2063  Justice Department curtails prosecutions for b...   \n",
       "\n",
       "                            date   source  \n",
       "0     2025-01-22T07:51:56.317828  nytimes  \n",
       "1     2025-01-22T07:51:56.317828  nytimes  \n",
       "2     2025-01-22T07:51:56.317828  nytimes  \n",
       "3     2025-01-22T07:51:56.317828  nytimes  \n",
       "4     2025-01-22T07:51:56.317828  nytimes  \n",
       "...                          ...      ...  \n",
       "2059  2025-01-24T12:24:06.823257       ap  \n",
       "2060  2025-01-24T12:24:06.823257       ap  \n",
       "2061  2025-01-24T12:24:06.823257       ap  \n",
       "2062  2025-01-24T12:24:06.823257       ap  \n",
       "2063  2025-01-24T12:24:06.823257       ap  \n",
       "\n",
       "[2064 rows x 3 columns]"
      ]
     },
     "execution_count": 1,
     "metadata": {},
     "output_type": "execute_result"
    },
    {
     "ename": "",
     "evalue": "",
     "output_type": "error",
     "traceback": [
      "\u001b[1;31mThe Kernel crashed while executing code in the current cell or a previous cell. \n",
      "\u001b[1;31mPlease review the code in the cell(s) to identify a possible cause of the failure. \n",
      "\u001b[1;31mClick <a href='https://aka.ms/vscodeJupyterKernelCrash'>here</a> for more info. \n",
      "\u001b[1;31mView Jupyter <a href='command:jupyter.viewOutput'>log</a> for further details."
     ]
    }
   ],
   "source": [
    "import pandas as pd\n",
    "data = pd.read_csv('data.csv')\n",
    "data"
   ]
  }
 ],
 "metadata": {
  "kernelspec": {
   "display_name": "stock-news-env",
   "language": "python",
   "name": "python3"
  },
  "language_info": {
   "codemirror_mode": {
    "name": "ipython",
    "version": 3
   },
   "file_extension": ".py",
   "mimetype": "text/x-python",
   "name": "python",
   "nbconvert_exporter": "python",
   "pygments_lexer": "ipython3",
   "version": "3.11.11"
  }
 },
 "nbformat": 4,
 "nbformat_minor": 5
}
