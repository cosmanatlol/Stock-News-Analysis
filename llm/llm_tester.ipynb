{
 "cells": [
  {
   "cell_type": "code",
   "execution_count": null,
   "id": "81b36c6d",
   "metadata": {},
   "outputs": [],
   "source": [
    "from openai import OpenAI"
   ]
  },
  {
   "cell_type": "code",
   "execution_count": null,
   "id": "9388f250",
   "metadata": {},
   "outputs": [
    {
     "name": "stdout",
     "output_type": "stream",
     "text": [
      "[True, True, False, True, False, False, False, False, True, False]\n"
     ]
    }
   ],
   "source": [
    "from typing import List\n",
    "from pydantic import BaseModel, Field, ValidationError\n",
    "from langchain_core.prompts import PromptTemplate\n",
    "from langchain_core.output_parsers import JsonOutputParser\n",
    "from langchain_openai.chat_models.base import BaseChatOpenAI\n",
    "\n",
    "def relevance_extractor(headlines: List[str], sector: str) -> List[bool]:\n",
    "    \"\"\"\n",
    "    headline: list of headlines\n",
    "    sector: sector of relevance\n",
    "    output: list of booleans indicating whether each headline is relevant to the sector\n",
    "    \"\"\" \n",
    "    llm = BaseChatOpenAI(\n",
    "        model='deepseek-chat', \n",
    "        openai_api_key='xdd', \n",
    "        openai_api_base='https://api.deepseek.com',\n",
    "        max_tokens=1024\n",
    "    )\n",
    "    class Query(BaseModel):\n",
    "        query: List[bool] = Field(\n",
    "            ...,\n",
    "            description=\"\"\"List of booleans indicating whether each headline is relevant to determining \n",
    "                        if a stock in the specified sector will rise or decrease. Treat || as delimiter\"\"\"\n",
    "        )\n",
    "    \n",
    "    length = len(headlines)\n",
    "    parser = JsonOutputParser(pydantic_object=Query)\n",
    "\n",
    "    prompt = PromptTemplate(\n",
    "        template=\"\"\"Assess whether each headline is relevant to determining if a stock in {sector} will rise or decrease. \n",
    "        Return a JSON list of booleans, one for each headline, indicating its relevance. Output list should be of length {length}\n",
    "        {format_instructions}\n",
    "\n",
    "        Headlines:\n",
    "        {headlines}\n",
    "        \"\"\",\n",
    "        input_variables=[\"sector\", \"headlines\", \"length\"],\n",
    "        partial_variables={\"format_instructions\": parser.get_format_instructions(), },\n",
    "    )\n",
    "    \n",
    "    chain = prompt | llm | parser\n",
    "    llm_response = chain.invoke({\"sector\": sector,\"headlines\": \"||\".join(headlines), \"length\": length})\n",
    "    try:\n",
    "        if len(llm_response['query']) != length:\n",
    "            raise ValueError(\"output list size does not match the number of headlines\")\n",
    "        return llm_response['query']\n",
    "    except (ValidationError, ValueError) as e:\n",
    "        print(f\"Error: {e}\")\n",
    "        return [False] * length \n",
    "\n",
    "headlines = [\n",
    "    \"Global Markets Surge Amid Positive Economic Forecast\",\n",
    "    \"Tech Companies Report Record Profits in Q4\",\n",
    "    \"New Study Reveals Climate Change Impact on Global Agriculture\",\n",
    "    \"Breakthrough in AI Technology Promises Faster Data Processing\",\n",
    "    \"Government Announces New Tax Reforms for Small Businesses\",\n",
    "    \"Scientists Discover Potential Cure for Rare Genetic Disorder\",\n",
    "    \"Electric Vehicles Gain Popularity as Charging Infrastructure Expands\",\n",
    "    \"Space Agency Plans Mission to Explore Distant Exoplanet\",\n",
    "    \"Cybersecurity Experts Warn of Rising Phishing Attacks\",\n",
    "    \"Healthcare Innovations to Address Aging Population Challenges\"\n",
    "]\n",
    "sector = \"tech\"\n",
    "output = relevance_extractor(headlines, sector)\n",
    "print(output)\n"
   ]
  },
  {
   "cell_type": "code",
   "execution_count": 27,
   "id": "c65352c4",
   "metadata": {},
   "outputs": [
    {
     "data": {
      "text/plain": [
       "[False,\n",
       " True,\n",
       " False,\n",
       " False,\n",
       " True,\n",
       " False,\n",
       " False,\n",
       " True,\n",
       " False,\n",
       " False,\n",
       " True,\n",
       " True,\n",
       " False,\n",
       " False,\n",
       " False,\n",
       " False,\n",
       " False,\n",
       " False,\n",
       " False,\n",
       " False]"
      ]
     },
     "execution_count": 27,
     "metadata": {},
     "output_type": "execute_result"
    }
   ],
   "source": [
    "import pandas as pd\n",
    "data = pd.read_csv('data.csv')\n",
    "headlines = data['headline'][20:40].tolist()\n",
    "sector = \"tech\"\n",
    "output = relevance_extractor(headlines, sector)\n",
    "output"
   ]
  },
  {
   "cell_type": "code",
   "execution_count": 22,
   "id": "87395940",
   "metadata": {},
   "outputs": [
    {
     "name": "stdout",
     "output_type": "stream",
     "text": [
      "-2\n"
     ]
    }
   ],
   "source": [
    "from typing import List\n",
    "from pydantic import BaseModel, Field, ValidationError\n",
    "from langchain_core.prompts import PromptTemplate\n",
    "from langchain_core.output_parsers import JsonOutputParser\n",
    "from langchain_openai.chat_models.base import BaseChatOpenAI\n",
    "import pandas as pd\n",
    "def relevance_extractor(headlines: List[str], stock: str,) -> int:\n",
    "    \"\"\"\n",
    "    headline: list of headlines\n",
    "    stock: stock of relevance\n",
    "    output: integer from 1-10 indicating whether each headline is relevant to the stock\n",
    "    \"\"\" \n",
    "    llm = BaseChatOpenAI(\n",
    "        model='deepseek-chat', \n",
    "        openai_api_key='sk-3d5efd9e47ee45f18cdab474a4d0de8e', \n",
    "        openai_api_base='https://api.deepseek.com',\n",
    "        max_tokens=1024,\n",
    "        temperature = 1\n",
    "    )\n",
    "    class importance_feature(BaseModel):\n",
    "        query: int = Field(\n",
    "            description=\"\"\"Integer from -5 to 5 indicating the importance of the news headline to the stock price\"\"\"\n",
    "        )\n",
    "    \n",
    "    parser = JsonOutputParser(pydantic_object=importance_feature)\n",
    "\n",
    "    prompt = PromptTemplate(\n",
    "        template=\"\"\"You are assessing the likelihood of {stock} price increasing or decreasing based on given news headlines. Output a number from -5 to 5 inclusive.\n",
    "        If a news headline is likely to cause an increase in {stock} price withing the next day then the output should be positive, and if a news headline is reporting on\n",
    "        something that will likely cause {stock} to decrease in price within the next day then return a negative integer. A higher absolute value indicates higher confidence.\n",
    "        Do not treat each headline as equally important, if some headlines have more impact on the stock price than others, indicate that in the output.\n",
    "        {format_instructions}\n",
    "\n",
    "        Headlines:\n",
    "        {headlines}\n",
    "        \"\"\",\n",
    "        input_variables=[\"stock\", \"headlines\"],\n",
    "        partial_variables={\"format_instructions\": parser.get_format_instructions(), },\n",
    "    )\n",
    "    \n",
    "    chain = prompt | llm | parser\n",
    "    llm_response = chain.invoke({\"stock\": stock,\"headlines\": \"||\".join(headlines), })\n",
    "    print(llm_response['query'])\n",
    "    try:\n",
    "        if abs(llm_response['query']) > 5:\n",
    "            raise ValueError(\"output list size does not match the number of headlines\")\n",
    "        return llm_response['query']\n",
    "    except (ValidationError, ValueError) as e:\n",
    "        print(f\"Error: {e}\")\n",
    "        return 0\n",
    "\n",
    "headlines = pd.read_csv('data.csv')['headline'][20:40].tolist()\n",
    "stock = \"google\"\n",
    "output = relevance_extractor(headlines, stock)\n"
   ]
  },
  {
   "cell_type": "code",
   "execution_count": 15,
   "id": "49331e0b",
   "metadata": {},
   "outputs": [
    {
     "data": {
      "text/plain": [
       "['Wednesday Briefing: Trump Opponents Push Back',\n",
       " 'How Could Trump’s Tariffs Affect the U.S., Canada and Mexico?',\n",
       " 'Rubio Oversees Halt to Foreign Aid and Meets With Asian Diplomats on Day 1',\n",
       " 'Fire Kills Dozens of People at Turkish Ski Resort',\n",
       " 'U.S. Wind Power Faces Huge Challenges After Trump Orders a Crackdown',\n",
       " 'Bimla Bissell, Ambassadors’ Aide and a Social Hub in India, Dies at 92',\n",
       " 'As Trump Takes Office, Zelensky Urges Europe to Stand Firm Against Russia',\n",
       " 'Trump’s Order to End E.V. Subsidies Draws Pushback and Doubt',\n",
       " '2 Families, in Business for 50 Years, Wage War in a South Korean Boardroom',\n",
       " 'Trump Pardons Creator of Silk Road Drug Marketplace',\n",
       " 'Trump Says He Intends to Impose 10% Tariffs on Chinese Imports on Feb. 1',\n",
       " 'Taking Trump’s Tariffs Threats Seriously and Literally',\n",
       " 'Sustainable Travel: Maximizing Visitors’ Positive Impact on Locals',\n",
       " 'Cruises: ‘Neighborhoods,’ Private Islands and More Megaships',\n",
       " 'Luxury Resorts: Far-Flung Settings, Fair Prices and Cooler Climes',\n",
       " 'Air Travel: New Lounges, Elite Offerings and Shifts in Frequent-Flier Programs',\n",
       " 'Solo Vacations: Traveling Alone Is Now a Group Activity',\n",
       " 'Prices: A Mixed Outlook on Flights, Hotels and Cruises',\n",
       " 'Europe: ‘Detour Destinations,’ ‘Noctourism’ and ‘Tailored Train Trips’',\n",
       " 'Ex-Executive Who Oversaw South Korean Airport Renovations Is Found Dead']"
      ]
     },
     "execution_count": 15,
     "metadata": {},
     "output_type": "execute_result"
    }
   ],
   "source": [
    "pd.read_csv('data.csv')['headline'][20:40].tolist()"
   ]
  },
  {
   "cell_type": "code",
   "execution_count": null,
   "id": "2bf955fc",
   "metadata": {},
   "outputs": [],
   "source": []
  }
 ],
 "metadata": {
  "kernelspec": {
   "display_name": "base",
   "language": "python",
   "name": "python3"
  },
  "language_info": {
   "codemirror_mode": {
    "name": "ipython",
    "version": 3
   },
   "file_extension": ".py",
   "mimetype": "text/x-python",
   "name": "python",
   "nbconvert_exporter": "python",
   "pygments_lexer": "ipython3",
   "version": "3.12.4"
  }
 },
 "nbformat": 4,
 "nbformat_minor": 5
}
